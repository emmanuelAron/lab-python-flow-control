{
  "cells": [
    {
      "cell_type": "markdown",
      "id": "d3bfc191-8885-42ee-b0a0-bbab867c6f9f",
      "metadata": {
        "tags": [],
        "id": "d3bfc191-8885-42ee-b0a0-bbab867c6f9f"
      },
      "source": [
        "# Lab | Flow Control"
      ]
    },
    {
      "cell_type": "markdown",
      "id": "3851fcd1-cf98-4653-9c89-e003b7ec9400",
      "metadata": {
        "id": "3851fcd1-cf98-4653-9c89-e003b7ec9400"
      },
      "source": [
        "## Exercise: Managing Customer Orders Optimized\n",
        "\n",
        "In the last lab, you were starting an online store that sells various products. To ensure smooth operations, you developed a program that manages customer orders and inventory.\n",
        "\n",
        "You did so without using flow control. Let's go a step further and improve this code.\n",
        "\n",
        "Follow the steps below to complete the exercise:\n",
        "\n",
        "1. Look at your code from the lab data structures, and improve repeated code with loops.\n",
        "\n",
        "2. Instead of asking the user to input the name of three products that a customer wants to order, do the following:\n",
        "    \n",
        "    a. Prompt the user to enter the name of a product that a customer wants to order.\n",
        "    \n",
        "    b. Add the product name to the \"customer_orders\" set.\n",
        "    \n",
        "    c. Ask the user if they want to add another product (yes/no).\n",
        "    \n",
        "    d. Continue the loop until the user does not want to add another product.\n",
        "\n",
        "3. Instead of updating the inventory by subtracting 1 from the quantity of each product, only do it for  the products that were ordered (those in \"customer_orders\")."
      ]
    },
    {
      "cell_type": "code",
      "source": [
        "#1\n",
        "products = [\"t-shirt\", \"mug\", \"hat\", \"book\", \"keychain\"]\n",
        "#2\n",
        "inventory = {}\n",
        "#3\n",
        "for p in products:\n",
        "    qtity = int(input(f\"how many {p} do you want?\"))\n",
        "    inventory[p] = qtity\n",
        "print(inventory)"
      ],
      "metadata": {
        "colab": {
          "base_uri": "https://localhost:8080/"
        },
        "id": "8pNbyoELKTYc",
        "outputId": "1acad9f8-3481-4eba-b5a8-9cb11354c2b0"
      },
      "id": "8pNbyoELKTYc",
      "execution_count": null,
      "outputs": [
        {
          "output_type": "stream",
          "name": "stdout",
          "text": [
            "how many t-shirt do you want?3\n",
            "how many mug do you want?4\n",
            "how many hat do you want?1\n",
            "how many book do you want?7\n",
            "how many keychain do you want?1\n",
            "{'t-shirt': 3, 'mug': 4, 'hat': 1, 'book': 7, 'keychain': 1}\n"
          ]
        }
      ]
    },
    {
      "cell_type": "markdown",
      "source": [
        "Sets"
      ],
      "metadata": {
        "id": "jFhvYdO1LUi5"
      },
      "id": "jFhvYdO1LUi5"
    },
    {
      "cell_type": "code",
      "source": [
        "print(inventory.keys())\n",
        "\n",
        "# 4 set\n",
        "customer_orders = set()\n",
        "y = \"\"\n",
        "i = 0\n",
        "while y != \"no\":\n",
        "    x = input(\"What do you want to order? mug?... \")\n",
        "    #customer_orders.add(x)\n",
        "    if x in products:\n",
        "      customer_orders.add(x)\n",
        "      y = input(\"Do you want another product? Answer yes or no \")\n",
        "      i = i+1\n",
        "print(customer_orders)\n",
        "\n",
        "# 7 total number of products in customer_orders\n",
        "total_customer_orders = i\n",
        "print(\"total : \",total_customer_orders)\n",
        "\n",
        "total_products = len(products)\n",
        "print(f\"Total Products Ordered: {total_products} \")\n",
        "\n",
        "order_status = total_customer_orders/total_products * 100\n",
        "print(f\"Percentage of Products Ordered: {order_status}% \")\n",
        "\n",
        "print(inventory)\n",
        "#Substract one to the quantity of each product in the customers_orders\n",
        "#for product in customer_orders:\n",
        "#  customer_orders[product] = customer_orders[product] -1\n",
        "\n",
        "#Substract one to the quantity of each product in the inventory\n",
        "for product in inventory:\n",
        "  inventory[product] = inventory[product] -1\n",
        "\n",
        "print(f\"decreased inventory: {inventory} \")\n"
      ],
      "metadata": {
        "colab": {
          "base_uri": "https://localhost:8080/"
        },
        "id": "xoeqjERELTEM",
        "outputId": "8a68d502-3d1c-4255-aa26-6506bf303f48"
      },
      "id": "xoeqjERELTEM",
      "execution_count": null,
      "outputs": [
        {
          "output_type": "stream",
          "name": "stdout",
          "text": [
            "dict_keys(['t-shirt', 'mug', 'hat', 'book', 'keychain'])\n",
            "What do you want to order? mug?... hat\n",
            "Do you want another product? Answer yes or no no\n",
            "{'hat'}\n",
            "total :  1\n",
            "Total Products Ordered: 5 \n",
            "Percentage of Products Ordered: 20.0% \n",
            "{'t-shirt': 2, 'mug': 3, 'hat': 0, 'book': 6, 'keychain': 0}\n",
            "decreased inventory: {'t-shirt': 1, 'mug': 2, 'hat': -1, 'book': 5, 'keychain': -1} \n"
          ]
        }
      ]
    },
    {
      "cell_type": "code",
      "source": [
        "print(inventory)"
      ],
      "metadata": {
        "colab": {
          "base_uri": "https://localhost:8080/"
        },
        "id": "PWCR3U6CNIVl",
        "outputId": "462ab8ea-e15e-4fb9-e3e8-2c6c68a2de63"
      },
      "id": "PWCR3U6CNIVl",
      "execution_count": null,
      "outputs": [
        {
          "output_type": "stream",
          "name": "stdout",
          "text": [
            "{'t-shirt': 2, 'mug': 4, 'hat': 6, 'book': 2, 'keychain': 7}\n"
          ]
        }
      ]
    },
    {
      "cell_type": "code",
      "source": [],
      "metadata": {
        "id": "Algu_V-HV5Gd"
      },
      "id": "Algu_V-HV5Gd",
      "execution_count": null,
      "outputs": []
    }
  ],
  "metadata": {
    "kernelspec": {
      "display_name": "Python 3 (ipykernel)",
      "language": "python",
      "name": "python3"
    },
    "language_info": {
      "codemirror_mode": {
        "name": "ipython",
        "version": 3
      },
      "file_extension": ".py",
      "mimetype": "text/x-python",
      "name": "python",
      "nbconvert_exporter": "python",
      "pygments_lexer": "ipython3",
      "version": "3.9.13"
    },
    "colab": {
      "provenance": []
    }
  },
  "nbformat": 4,
  "nbformat_minor": 5
}